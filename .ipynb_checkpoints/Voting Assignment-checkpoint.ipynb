{
 "cells": [
  {
   "cell_type": "code",
   "execution_count": 78,
   "metadata": {},
   "outputs": [
    {
     "name": "stdout",
     "output_type": "stream",
     "text": [
      "According to plurality voting the winner is B\n"
     ]
    }
   ],
   "source": [
    "import numpy as np\n",
    "import pandas as pd\n",
    "excel_file = \"data.xlsx\"\n",
    "preference_matrix = pd.read_excel(excel_file)\n",
    "# VOTING PREFERENCE-PLURALITY VOTING\n",
    "winner_row = preference_matrix.T.sort_values('1st preference')\n",
    "unsorted_winrow=winner_row.sort_values('1st preference')['1st preference'].value_counts()\n",
    "sorted_winrow = unsorted_winrow.sort_index()\n",
    "winner = sorted_winrow.idxmax()\n",
    "print('According to plurality voting the winner is ' + winner )"
   ]
  },
  {
   "cell_type": "code",
   "execution_count": null,
   "metadata": {
    "collapsed": true
   },
   "outputs": [],
   "source": []
  },
  {
   "cell_type": "code",
   "execution_count": null,
   "metadata": {
    "collapsed": true
   },
   "outputs": [],
   "source": []
  }
 ],
 "metadata": {
  "kernelspec": {
   "display_name": "Python 3",
   "language": "python",
   "name": "python3"
  },
  "language_info": {
   "codemirror_mode": {
    "name": "ipython",
    "version": 3
   },
   "file_extension": ".py",
   "mimetype": "text/x-python",
   "name": "python",
   "nbconvert_exporter": "python",
   "pygments_lexer": "ipython3",
   "version": "3.6.3"
  }
 },
 "nbformat": 4,
 "nbformat_minor": 2
}
