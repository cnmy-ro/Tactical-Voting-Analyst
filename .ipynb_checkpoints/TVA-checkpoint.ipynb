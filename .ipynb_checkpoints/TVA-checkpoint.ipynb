{
 "cells": [
  {
   "cell_type": "code",
   "execution_count": 1,
   "metadata": {
    "collapsed": true
   },
   "outputs": [],
   "source": [
    "# Data\n",
    "import numpy as np\n",
    "import pandas as pd\n",
    "excel_file = \"data.xlsx\"\n",
    "preference_matrix = pd.read_excel(excel_file)\n"
   ]
  },
  {
   "cell_type": "code",
   "execution_count": 3,
   "metadata": {},
   "outputs": [
    {
     "name": "stdout",
     "output_type": "stream",
     "text": [
      "According to plurality voting the winner is A\n"
     ]
    }
   ],
   "source": [
    "# Scheme 1- Voting for one (plurality voting) -- [1,0,0,0,...,0] {Sai}\n",
    "# VOTING PREFERENCE-PLURALITY VOTING\n",
    "winner_row = preference_matrix.T.sort_values('1st preference')\n",
    "unsorted_winrow=winner_row.sort_values('1st preference')['1st preference'].value_counts()\n",
    "sorted_winrow = unsorted_winrow.sort_index()\n",
    "winner = sorted_winrow.idxmax()\n",
    "print('According to plurality voting the winner is ' + winner )"
   ]
  },
  {
   "cell_type": "code",
   "execution_count": null,
   "metadata": {
    "collapsed": true
   },
   "outputs": [],
   "source": [
    "# Scheme 2- Voting for two -- [1,1,0,0,...,0] {Tom}"
   ]
  },
  {
   "cell_type": "code",
   "execution_count": 15,
   "metadata": {},
   "outputs": [
    {
     "data": {
      "text/plain": [
       "'B'"
      ]
     },
     "execution_count": 15,
     "metadata": {},
     "output_type": "execute_result"
    }
   ],
   "source": [
    "# Scheme 3- Anti-plurality voting (veto) -- [1,1,1,1,...,0] {Zhaolin}\n",
    "preference_matrix.iloc[0,2]"
   ]
  },
  {
   "cell_type": "code",
   "execution_count": 45,
   "metadata": {},
   "outputs": [
    {
     "name": "stdout",
     "output_type": "stream",
     "text": [
      "10\n",
      "Winner:  A\n"
     ]
    }
   ],
   "source": [
    "# Scheme 4- Borda voting -- [m-1,m-2,m-2,m-3,...,0] {Chinmay}\n",
    "\n",
    "#print(preference_matrix)\n",
    "alt_dict = {'A':0, 'B':0, 'C':0, 'D':0, 'E':0, 'F':0, 'G':0, 'H':0, 'I':0, 'J':0}\n",
    "m = preference_matrix.shape[1]\n",
    "for voter in range(0,10):\n",
    "    for pref in range(0,10):\n",
    "        alt_dict[preference_matrix.T.iloc[voter,pref]] += m-1-pref\n",
    "#print(alt_dict)\n",
    "alt_list = [(k,v) for k,v in alt_dict.items()]\n",
    "alt_list.sort(key=lambda val:val[1], reverse=True)\n",
    "#print(alt_list)\n",
    "print(\"Winner: \", alt_list[0][0])"
   ]
  },
  {
   "cell_type": "code",
   "execution_count": null,
   "metadata": {
    "collapsed": true
   },
   "outputs": [],
   "source": []
  }
 ],
 "metadata": {
  "kernelspec": {
   "display_name": "Python 3",
   "language": "python",
   "name": "python3"
  },
  "language_info": {
   "codemirror_mode": {
    "name": "ipython",
    "version": 3
   },
   "file_extension": ".py",
   "mimetype": "text/x-python",
   "name": "python",
   "nbconvert_exporter": "python",
   "pygments_lexer": "ipython3",
   "version": "3.6.3"
  }
 },
 "nbformat": 4,
 "nbformat_minor": 2
}
