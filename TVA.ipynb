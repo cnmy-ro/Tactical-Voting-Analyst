{
 "cells": [
  {
   "cell_type": "code",
   "execution_count": 2,
   "metadata": {
    "collapsed": true
   },
   "outputs": [],
   "source": [
    "# Data\n",
    "import numpy as np\n",
    "import pandas as pd\n",
    "excel_file = \"data.xlsx\"\n",
    "preference_matrix = pd.read_excel(excel_file)\n"
   ]
  },
  {
   "cell_type": "code",
   "execution_count": 3,
   "metadata": {},
   "outputs": [
    {
     "name": "stdout",
     "output_type": "stream",
     "text": [
      "According to plurality voting the winner is A\n"
     ]
    }
   ],
   "source": [
    "# Scheme 1- Voting for one (plurality voting) -- [1,0,0,0,...,0] {Sai}\n",
    "# VOTING PREFERENCE-PLURALITY VOTING\n",
    "winner_row = preference_matrix.T.sort_values('1st preference')\n",
    "unsorted_winrow=winner_row.sort_values('1st preference')['1st preference'].value_counts()\n",
    "sorted_winrow = unsorted_winrow.sort_index()\n",
    "winner = sorted_winrow.idxmax()\n",
    "print('According to plurality voting the winner is ' + winner )"
   ]
  },
  {
   "cell_type": "code",
   "execution_count": null,
   "metadata": {
    "collapsed": true
   },
   "outputs": [],
   "source": [
    "# Scheme 2- Voting for two -- [1,1,0,0,...,0] {Tom}"
   ]
  },
  {
   "cell_type": "code",
   "execution_count": 15,
   "metadata": {},
   "outputs": [
    {
     "data": {
      "text/plain": [
       "'B'"
      ]
     },
     "execution_count": 15,
     "metadata": {},
     "output_type": "execute_result"
    }
   ],
   "source": [
    "# Scheme 3- Anti-plurality voting (veto) -- [1,1,1,1,...,0] {Zhaolin}"
   ]
  },
  {
   "cell_type": "code",
   "execution_count": 7,
   "metadata": {},
   "outputs": [
    {
     "name": "stdout",
     "output_type": "stream",
     "text": [
      "True (non-strategic) outcome: \n",
      " [['A' '57']\n",
      " ['B' '56']\n",
      " ['G' '55']\n",
      " ['F' '51']\n",
      " ['C' '50']\n",
      " ['D' '46']\n",
      " ['H' '45']\n",
      " ['E' '36']\n",
      " ['I' '36']\n",
      " ['J' '18']]\n",
      "True (non-strategic) happiness:  0.233491391289\n"
     ]
    }
   ],
   "source": [
    "# Scheme 4- Borda voting -- [m-1,m-2,m-2,m-3,...,0] {Chinmay}\n",
    "original_pref_matrix = preference_matrix\n",
    "n_candidates = original_pref_matrix.shape[0]\n",
    "n_voters = original_pref_matrix.shape[1]\n",
    "\n",
    "def getOutcome(pref_matrix):\n",
    "    candidate_dict = {'A':0, 'B':0, 'C':0, 'D':0, 'E':0, 'F':0, 'G':0, 'H':0, 'I':0, 'J':0}\n",
    "\n",
    "    for v in range(n_voters):\n",
    "        for c in range(n_candidates):\n",
    "            candidate_dict[pref_matrix.T.iloc[v,c]] += n_candidates-1-c\n",
    "    outcome_list = [(k,v) for k,v in candidate_dict.items()]\n",
    "    outcome_list.sort(key=lambda val:val[1], reverse=True)\n",
    "\n",
    "    return np.array(outcome_list)\n",
    "\n",
    "# Happiness calculation\n",
    "def getHappiness(outcome_list):\n",
    "    W = list(range(1, original_pref_matrix.shape[1]+1)) # weights\n",
    "    W.reverse()\n",
    "\n",
    "    total_happiness = 0\n",
    "    pref_matrix = original_pref_matrix.values\n",
    "    for v in range(n_voters):\n",
    "        voter_pref_list = pref_matrix[:,v]\n",
    "        d_i = 0\n",
    "        for c in range(n_candidates):\n",
    "            k = n_candidates - np.argwhere(outcome_list == voter_pref_list[c])[0][0] # position of the alt in outcome (indexed form bottom)\n",
    "            j = n_candidates - c # position of the alt in the voter's pref (indexed form bottom)\n",
    "            d_ij = k - j\n",
    "            d_i += W[c]*d_ij\n",
    "        voter_happiness = 1/(1+abs(d_i))\n",
    "        total_happiness += voter_happiness\n",
    "    return total_happiness\n",
    "\n",
    "true_outcome = getOutcome(original_pref_matrix)\n",
    "true_happiness = getHappiness(true_outcome_list)\n",
    "\n",
    "print(\"True (non-strategic) outcome: \\n\", true_outcome)\n",
    "print(\"True (non-strategic) happiness: \", true_happiness)"
   ]
  }
 ],
 "metadata": {
  "kernelspec": {
   "display_name": "Python 3",
   "language": "python",
   "name": "python3"
  },
  "language_info": {
   "codemirror_mode": {
    "name": "ipython",
    "version": 3
   },
   "file_extension": ".py",
   "mimetype": "text/x-python",
   "name": "python",
   "nbconvert_exporter": "python",
   "pygments_lexer": "ipython3",
   "version": "3.6.3"
  }
 },
 "nbformat": 4,
 "nbformat_minor": 2
}
